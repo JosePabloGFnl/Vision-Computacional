{
  "nbformat": 4,
  "nbformat_minor": 0,
  "metadata": {
    "colab": {
      "name": "Ejercicio4.ipynb",
      "provenance": [],
      "authorship_tag": "ABX9TyPeailffbtdVT39Xtuk6szi",
      "include_colab_link": true
    },
    "kernelspec": {
      "name": "python3",
      "display_name": "Python 3"
    },
    "language_info": {
      "name": "python"
    }
  },
  "cells": [
    {
      "cell_type": "markdown",
      "metadata": {
        "id": "view-in-github",
        "colab_type": "text"
      },
      "source": [
        "<a href=\"https://colab.research.google.com/github/JosePabloGFnl/Vision-Computacional/blob/main/Ejercicio%204/Ejercicio4.ipynb\" target=\"_parent\"><img src=\"https://colab.research.google.com/assets/colab-badge.svg\" alt=\"Open In Colab\"/></a>"
      ]
    },
    {
      "cell_type": "code",
      "execution_count": 2,
      "metadata": {
        "colab": {
          "base_uri": "https://localhost:8080/"
        },
        "id": "C51UDUcO5djO",
        "outputId": "6f5b114f-5521-45a8-cc8f-078367ff3e4e"
      },
      "outputs": [
        {
          "output_type": "stream",
          "name": "stdout",
          "text": [
            "Contraste: [[1354.81859599 2545.68876333 1822.37622683 2301.52697756]]\n",
            "Disimilitud: [[27.96493735 38.74325782 32.48875993 36.88101933]]\n",
            "Homogeneidad: [[0.04247962 0.02991646 0.03685092 0.03105112]]\n",
            "Energía: [[0.00939558 0.00829821 0.00888824 0.00848049]]\n",
            "Correlacion: [[0.6739069  0.38733975 0.56140378 0.44609988]]\n"
          ]
        }
      ],
      "source": [
        "import numpy as np\n",
        "import cv2\n",
        "from google.colab.patches import cv2_imshow\n",
        "import skimage.feature as feature\n",
        "\n",
        "# Leer la imagen\n",
        "img = \"textura.jpg\"\n",
        "leer_img = cv2.imread(img)\n",
        "escala_grises = cv2.cvtColor(leer_img, cv2.COLOR_BGR2GRAY)\n",
        "\n",
        "\n",
        "# Creación de la matriz de co-ocurrencia en escala de grises, que es el histograma de los valores de grises de la imagen\n",
        "matriz_grises = feature.greycomatrix(escala_grises, [1], [0, np.pi/4, np.pi/2, 3*np.pi/4], levels=256)\n",
        "\n",
        "# Encontrar los atributos de contraste, energía, disimilitud, correlación y homogeneidad\n",
        "contraste = feature.greycoprops(matriz_grises, 'contrast')\n",
        "disimilitud = feature.greycoprops(matriz_grises, 'dissimilarity')\n",
        "homogeneidad = feature.greycoprops(matriz_grises, 'homogeneity')\n",
        "energia = feature.greycoprops(matriz_grises, 'energy')\n",
        "correlacion = feature.greycoprops(matriz_grises, 'correlation')\n",
        "\n",
        "\n",
        "print(\"Contraste: {}\".format(contraste))\n",
        "print(\"Disimilitud: {}\".format(disimilitud))\n",
        "print(\"Homogeneidad: {}\".format(homogeneidad))\n",
        "print(\"Energía: {}\".format(energia))\n",
        "print(\"Correlacion: {}\".format(correlacion))"
      ]
    }
  ]
}